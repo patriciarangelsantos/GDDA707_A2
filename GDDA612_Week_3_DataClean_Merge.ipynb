{
  "nbformat": 4,
  "nbformat_minor": 0,
  "metadata": {
    "colab": {
      "provenance": []
    },
    "kernelspec": {
      "name": "python3",
      "display_name": "Python 3"
    },
    "language_info": {
      "name": "python"
    }
  },
  "cells": [
    {
      "cell_type": "code",
      "execution_count": 33,
      "metadata": {
        "id": "jcWlezjJH-_v",
        "colab": {
          "base_uri": "https://localhost:8080/"
        },
        "outputId": "bec1339b-047c-4abc-cb61-d99af1ca38ab"
      },
      "outputs": [
        {
          "output_type": "stream",
          "name": "stdout",
          "text": [
            "Drive already mounted at /content/drive/; to attempt to forcibly remount, call drive.mount(\"/content/drive/\", force_remount=True).\n"
          ]
        }
      ],
      "source": [
        "from google.colab import drive\n",
        "drive.mount('/content/drive/')"
      ]
    },
    {
      "cell_type": "code",
      "source": [
        "df = pd.read_csv(\"/content/drive/MyDrive/Colab_Code/BL-Flickr-Images-Book.csv\")"
      ],
      "metadata": {
        "id": "BmdgOXCzSzdQ"
      },
      "execution_count": 41,
      "outputs": []
    },
    {
      "cell_type": "code",
      "source": [
        "#package\n",
        "import numpy as np\n",
        "import pandas as pd"
      ],
      "metadata": {
        "id": "8W-78uWGSuY1"
      },
      "execution_count": 37,
      "outputs": []
    },
    {
      "cell_type": "code",
      "source": [
        "df.head(30)"
      ],
      "metadata": {
        "id": "rgoKdu9sTSmO"
      },
      "execution_count": null,
      "outputs": []
    },
    {
      "cell_type": "code",
      "source": [
        "#Check null values\n",
        "df.isnull().any()"
      ],
      "metadata": {
        "id": "uLKZ8qD0VKCQ"
      },
      "execution_count": null,
      "outputs": []
    },
    {
      "cell_type": "code",
      "source": [
        "#Check duplicated\n",
        "duplicate_rows = df.duplicated()\n",
        "print(\"Number of duplicate rows:\", duplicate_rows.sum())"
      ],
      "metadata": {
        "colab": {
          "base_uri": "https://localhost:8080/"
        },
        "id": "W_KEkuqVZJlI",
        "outputId": "65e8a926-d331-4fcd-daaa-fe19d9e05c85"
      },
      "execution_count": 10,
      "outputs": [
        {
          "output_type": "stream",
          "name": "stdout",
          "text": [
            "Number of duplicate rows: 0\n"
          ]
        }
      ]
    },
    {
      "cell_type": "code",
      "source": [
        "#Change values NAN to zero and default false\n",
        "df =df.fillna(0, inplace=False)"
      ],
      "metadata": {
        "id": "QK-hMpA3knGn"
      },
      "execution_count": null,
      "outputs": []
    },
    {
      "cell_type": "code",
      "source": [
        "data_types = df.dtypes\n",
        "print(data_types)"
      ],
      "metadata": {
        "colab": {
          "base_uri": "https://localhost:8080/"
        },
        "id": "DKBcRo4nTwOS",
        "outputId": "7f166e1a-cbbf-4d16-e1b8-bcb95a4bc89a"
      },
      "execution_count": 8,
      "outputs": [
        {
          "output_type": "stream",
          "name": "stdout",
          "text": [
            "Identifier                  int64\n",
            "Edition Statement          object\n",
            "Place of Publication       object\n",
            "Date of Publication        object\n",
            "Publisher                  object\n",
            "Title                      object\n",
            "Author                     object\n",
            "Contributors               object\n",
            "Corporate Author          float64\n",
            "Corporate Contributors    float64\n",
            "Former owner               object\n",
            "Engraver                  float64\n",
            "Issuance type              object\n",
            "Flickr URL                 object\n",
            "Shelfmarks                 object\n",
            "dtype: object\n"
          ]
        }
      ]
    },
    {
      "cell_type": "code",
      "source": [
        "#CSV access\n",
        "data1 = pd.read_csv(\"/content/drive/MyDrive/Colab_Code/BL-Flickr-Images-Book.csv\")\n",
        "data2 = pd.read_csv(\"/content/drive/MyDrive/Colab_Code/olympics.csv\")"
      ],
      "metadata": {
        "id": "SDIjv2Z7wJg8"
      },
      "execution_count": null,
      "outputs": []
    },
    {
      "cell_type": "code",
      "source": [
        "#Merge CSV\n",
        "output = pd.merge(data1, data2, how=\"cross\")\n",
        "print(output)\n"
      ],
      "metadata": {
        "colab": {
          "base_uri": "https://localhost:8080/"
        },
        "id": "IbJ6BcuHZZoQ",
        "outputId": "fd5035ad-a1d0-4887-e64f-9f2486573f06"
      },
      "execution_count": 40,
      "outputs": [
        {
          "output_type": "stream",
          "name": "stdout",
          "text": [
            "         Identifier Edition Statement Place of Publication  \\\n",
            "0               206               NaN               London   \n",
            "1               206               NaN               London   \n",
            "2               206               NaN               London   \n",
            "3               206               NaN               London   \n",
            "4               206               NaN               London   \n",
            "...             ...               ...                  ...   \n",
            "1226471     4160339               NaN               London   \n",
            "1226472     4160339               NaN               London   \n",
            "1226473     4160339               NaN               London   \n",
            "1226474     4160339               NaN               London   \n",
            "1226475     4160339               NaN               London   \n",
            "\n",
            "        Date of Publication         Publisher  \\\n",
            "0               1879 [1878]  S. Tinsley & Co.   \n",
            "1               1879 [1878]  S. Tinsley & Co.   \n",
            "2               1879 [1878]  S. Tinsley & Co.   \n",
            "3               1879 [1878]  S. Tinsley & Co.   \n",
            "4               1879 [1878]  S. Tinsley & Co.   \n",
            "...                     ...               ...   \n",
            "1226471             1834-43               NaN   \n",
            "1226472             1834-43               NaN   \n",
            "1226473             1834-43               NaN   \n",
            "1226474             1834-43               NaN   \n",
            "1226475             1834-43               NaN   \n",
            "\n",
            "                                                     Title Author  \\\n",
            "0                        Walter Forbes. [A novel.] By A. A  A. A.   \n",
            "1                        Walter Forbes. [A novel.] By A. A  A. A.   \n",
            "2                        Walter Forbes. [A novel.] By A. A  A. A.   \n",
            "3                        Walter Forbes. [A novel.] By A. A  A. A.   \n",
            "4                        Walter Forbes. [A novel.] By A. A  A. A.   \n",
            "...                                                    ...    ...   \n",
            "1226471  Collectanea Topographica et Genealogica. [Firs...    NaN   \n",
            "1226472  Collectanea Topographica et Genealogica. [Firs...    NaN   \n",
            "1226473  Collectanea Topographica et Genealogica. [Firs...    NaN   \n",
            "1226474  Collectanea Topographica et Genealogica. [Firs...    NaN   \n",
            "1226475  Collectanea Topographica et Genealogica. [Firs...    NaN   \n",
            "\n",
            "                                    Contributors  Corporate Author  \\\n",
            "0                                FORBES, Walter.               NaN   \n",
            "1                                FORBES, Walter.               NaN   \n",
            "2                                FORBES, Walter.               NaN   \n",
            "3                                FORBES, Walter.               NaN   \n",
            "4                                FORBES, Walter.               NaN   \n",
            "...                                          ...               ...   \n",
            "1226471  BANDINEL, Bulkeley.|Nichols, John Gough               NaN   \n",
            "1226472  BANDINEL, Bulkeley.|Nichols, John Gough               NaN   \n",
            "1226473  BANDINEL, Bulkeley.|Nichols, John Gough               NaN   \n",
            "1226474  BANDINEL, Bulkeley.|Nichols, John Gough               NaN   \n",
            "1226475  BANDINEL, Bulkeley.|Nichols, John Gough               NaN   \n",
            "\n",
            "         Corporate Contributors  ...         6     7     8     9     10  \\\n",
            "0                           NaN  ...  ? Winter  01 !  02 !  03 !  Total   \n",
            "1                           NaN  ...         0     0     0     0      0   \n",
            "2                           NaN  ...         3     0     0     0      0   \n",
            "3                           NaN  ...        18     0     0     0      0   \n",
            "4                           NaN  ...         6     0     0     0      0   \n",
            "...                         ...  ...       ...   ...   ...   ...    ...   \n",
            "1226471                     NaN  ...         0     0     0     0      0   \n",
            "1226472                     NaN  ...         0     0     0     0      0   \n",
            "1226473                     NaN  ...         1     0     0     0      0   \n",
            "1226474                     NaN  ...         0     0     0     0      0   \n",
            "1226475                     NaN  ...        22   959   958   948   2865   \n",
            "\n",
            "              11    12    13    14              15  \n",
            "0        ? Games  01 !  02 !  03 !  Combined total  \n",
            "1             13     0     0     2               2  \n",
            "2             15     5     2     8              15  \n",
            "3             41    18    24    28              70  \n",
            "4             11     1     2     9              12  \n",
            "...          ...   ...   ...   ...             ...  \n",
            "1226471        1     0     1     2               3  \n",
            "1226472       12     0     1     1               2  \n",
            "1226473       13     3     4     1               8  \n",
            "1226474        3     8     5     4              17  \n",
            "1226475       49  5768  5733  6078           17579  \n",
            "\n",
            "[1226476 rows x 31 columns]\n"
          ]
        }
      ]
    }
  ]
}